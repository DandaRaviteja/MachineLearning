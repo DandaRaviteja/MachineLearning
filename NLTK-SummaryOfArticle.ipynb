{
 "cells": [
  {
   "cell_type": "code",
   "execution_count": null,
   "metadata": {},
   "outputs": [],
   "source": [
    "#########################\n"
   ]
  },
  {
   "cell_type": "code",
   "execution_count": 3,
   "metadata": {},
   "outputs": [],
   "source": [
    "import nltk"
   ]
  },
  {
   "cell_type": "code",
   "execution_count": null,
   "metadata": {},
   "outputs": [],
   "source": []
  },
  {
   "cell_type": "code",
   "execution_count": 4,
   "metadata": {
    "collapsed": true
   },
   "outputs": [
    {
     "name": "stderr",
     "output_type": "stream",
     "text": [
      "[nltk_data] Downloading package stopwords to\n",
      "[nltk_data]     C:\\Users\\972270\\AppData\\Roaming\\nltk_data...\n",
      "[nltk_data]   Package stopwords is already up-to-date!\n"
     ]
    },
    {
     "data": {
      "text/plain": [
       "True"
      ]
     },
     "execution_count": 4,
     "metadata": {},
     "output_type": "execute_result"
    }
   ],
   "source": [
    "nltk.download('stopwords')"
   ]
  },
  {
   "cell_type": "code",
   "execution_count": 5,
   "metadata": {},
   "outputs": [
    {
     "name": "stderr",
     "output_type": "stream",
     "text": [
      "[nltk_data] Downloading package punkt to\n",
      "[nltk_data]     C:\\Users\\972270\\AppData\\Roaming\\nltk_data...\n",
      "[nltk_data]   Unzipping tokenizers\\punkt.zip.\n"
     ]
    },
    {
     "data": {
      "text/plain": [
       "True"
      ]
     },
     "execution_count": 5,
     "metadata": {},
     "output_type": "execute_result"
    }
   ],
   "source": [
    "nltk.download('punkt')"
   ]
  },
  {
   "cell_type": "code",
   "execution_count": 7,
   "metadata": {},
   "outputs": [],
   "source": [
    "from nltk.tokenize import sent_tokenize, word_tokenize\n",
    "from nltk.corpus import stopwords"
   ]
  },
  {
   "cell_type": "code",
   "execution_count": 14,
   "metadata": {},
   "outputs": [],
   "source": [
    "#all owrd my not exist in dictionary, if key doesnt exit instead of error, we can add to deault item in constructor.\n",
    "from collections import defaultdict"
   ]
  },
  {
   "cell_type": "code",
   "execution_count": 16,
   "metadata": {},
   "outputs": [],
   "source": [
    "#punctuations \n",
    "from string import punctuation"
   ]
  },
  {
   "cell_type": "code",
   "execution_count": 15,
   "metadata": {},
   "outputs": [],
   "source": [
    "#largest elements in the list form our data\n",
    "from heapq import nlargest"
   ]
  },
  {
   "cell_type": "code",
   "execution_count": 23,
   "metadata": {
    "scrolled": true
   },
   "outputs": [
    {
     "name": "stdout",
     "output_type": "stream",
     "text": [
      "{'being', 'of', 'an', 'have', 'having', 'through', \"doesn't\", 'can', 'we', 'myself', 've', 'so', 'her', \"isn't\", 'why', 'when', 'do', \"it's\", 'at', '-', 'there', \"haven't\", 'been', 'in', 'isn', 'each', '^', 'mustn', 'by', '%', '*', 're', \"weren't\", '>', '`', 'or', 'didn', 'some', \"'\", '_', 'about', \"hadn't\", \"mightn't\", 'weren', 'for', 'out', \"you've\", 'yourselves', 'what', ';', 'the', 'm', 'most', 'once', \"you're\", 'any', \"aren't\", '\\\\', ',', 'own', 'both', 'no', \"wasn't\", 'during', 'again', 'doesn', \"couldn't\", 'is', 'with', 'these', '/', 'their', \"should've\", 'did', 'me', 'you', 'not', 'himself', 'this', 'won', 'wouldn', '#', 'as', 'll', \"hasn't\", 'him', 'above', 'o', 'aren', 'nor', 'which', '.', 'hadn', '?', 'a', 'whom', 'under', 'd', \"didn't\", 't', 'he', 'needn', '=', 'they', '{', '}', '@', 'are', \"you'd\", 'itself', 'them', 'such', 'should', \"mustn't\", 'but', 'just', 'between', \"needn't\", 'and', 'to', 'your', 'haven', 'because', 'shan', 'shouldn', 'our', 'were', 'it', 'below', 's', 'those', '!', '+', 'up', 'y', 'until', 'where', 'themselves', 'now', 'wasn', 'ain', 'yourself', 'from', 'had', \"shouldn't\", \"won't\", 'its', '\"', 'theirs', 'that', 'has', 'few', 'over', \"you'll\", 'hers', 'against', '$', 'too', 'hasn', 'than', 'she', 'my', 'down', 'will', 'ma', 'same', 'who', 'after', 'more', 'only', 'other', 'how', 'if', ']', 'then', 'couldn', 'his', '&', 'into', 'was', '<', 'don', 'mightn', 'does', 'very', \"wouldn't\", '(', 'further', 'yours', \"don't\", 'ourselves', \"that'll\", 'on', 'here', 'ours', 'be', \"shan't\", ':', '[', 'all', 'herself', 'off', 'i', ')', 'doing', '|', \"she's\", 'am', 'while', '~', 'before'}\n"
     ]
    },
    {
     "ename": "RuntimeError",
     "evalue": "dictionary changed size during iteration",
     "output_type": "error",
     "traceback": [
      "\u001b[1;31m---------------------------------------------------------------------------\u001b[0m",
      "\u001b[1;31mRuntimeError\u001b[0m                              Traceback (most recent call last)",
      "\u001b[1;32m<ipython-input-23-0f4e945a572d>\u001b[0m in \u001b[0;36m<module>\u001b[1;34m\u001b[0m\n\u001b[0;32m     61\u001b[0m \u001b[0mtextofURL\u001b[0m \u001b[1;33m=\u001b[0m \u001b[0mget_only_text_washingtonpost_url\u001b[0m\u001b[1;33m(\u001b[0m\u001b[0msomeUrl\u001b[0m\u001b[1;33m)\u001b[0m\u001b[1;33m\u001b[0m\u001b[1;33m\u001b[0m\u001b[0m\n\u001b[0;32m     62\u001b[0m \u001b[0mfs\u001b[0m \u001b[1;33m=\u001b[0m \u001b[0mFrequencySummarizer\u001b[0m\u001b[1;33m(\u001b[0m\u001b[1;33m)\u001b[0m\u001b[1;33m\u001b[0m\u001b[1;33m\u001b[0m\u001b[0m\n\u001b[1;32m---> 63\u001b[1;33m \u001b[0msummary\u001b[0m \u001b[1;33m=\u001b[0m \u001b[0mfs\u001b[0m\u001b[1;33m.\u001b[0m\u001b[0msummarize\u001b[0m\u001b[1;33m(\u001b[0m\u001b[0mtextofURL\u001b[0m\u001b[1;33m[\u001b[0m\u001b[1;36m1\u001b[0m\u001b[1;33m]\u001b[0m\u001b[1;33m,\u001b[0m\u001b[1;36m3\u001b[0m\u001b[1;33m)\u001b[0m\u001b[1;33m\u001b[0m\u001b[1;33m\u001b[0m\u001b[0m\n\u001b[0m\u001b[0;32m     64\u001b[0m \u001b[0mprint\u001b[0m\u001b[1;33m(\u001b[0m\u001b[0msummary\u001b[0m\u001b[1;33m)\u001b[0m\u001b[1;33m\u001b[0m\u001b[1;33m\u001b[0m\u001b[0m\n\u001b[0;32m     65\u001b[0m \u001b[1;33m\u001b[0m\u001b[0m\n",
      "\u001b[1;32m<ipython-input-23-0f4e945a572d>\u001b[0m in \u001b[0;36msummarize\u001b[1;34m(self, text, n)\u001b[0m\n\u001b[0;32m     43\u001b[0m         \u001b[0mword_sent\u001b[0m \u001b[1;33m=\u001b[0m \u001b[1;33m[\u001b[0m\u001b[0mword_tokenize\u001b[0m\u001b[1;33m(\u001b[0m\u001b[0ms\u001b[0m\u001b[1;33m.\u001b[0m\u001b[0mlower\u001b[0m\u001b[1;33m(\u001b[0m\u001b[1;33m)\u001b[0m\u001b[1;33m)\u001b[0m \u001b[1;32mfor\u001b[0m \u001b[0ms\u001b[0m \u001b[1;32min\u001b[0m \u001b[0msents\u001b[0m\u001b[1;33m]\u001b[0m\u001b[1;33m\u001b[0m\u001b[1;33m\u001b[0m\u001b[0m\n\u001b[0;32m     44\u001b[0m         \u001b[1;31m#each sentence will iterate through each word\u001b[0m\u001b[1;33m\u001b[0m\u001b[1;33m\u001b[0m\u001b[1;33m\u001b[0m\u001b[0m\n\u001b[1;32m---> 45\u001b[1;33m         \u001b[0mself\u001b[0m\u001b[1;33m.\u001b[0m\u001b[0mfreq\u001b[0m \u001b[1;33m=\u001b[0m \u001b[0mself\u001b[0m\u001b[1;33m.\u001b[0m\u001b[0m_compute_frequency\u001b[0m\u001b[1;33m(\u001b[0m\u001b[0mword_sent\u001b[0m\u001b[1;33m)\u001b[0m\u001b[1;33m\u001b[0m\u001b[1;33m\u001b[0m\u001b[0m\n\u001b[0m\u001b[0;32m     46\u001b[0m         \u001b[0mrankint\u001b[0m \u001b[1;33m=\u001b[0m \u001b[0mdefaultdict\u001b[0m\u001b[1;33m(\u001b[0m\u001b[0mint\u001b[0m\u001b[1;33m)\u001b[0m\u001b[1;33m\u001b[0m\u001b[1;33m\u001b[0m\u001b[0m\n\u001b[0;32m     47\u001b[0m         \u001b[1;32mfor\u001b[0m \u001b[0mi\u001b[0m\u001b[1;33m,\u001b[0m\u001b[0msent\u001b[0m \u001b[1;32min\u001b[0m \u001b[0menumerate\u001b[0m\u001b[1;33m(\u001b[0m\u001b[0mword_sent\u001b[0m\u001b[1;33m)\u001b[0m\u001b[1;33m:\u001b[0m\u001b[1;33m\u001b[0m\u001b[1;33m\u001b[0m\u001b[0m\n",
      "\u001b[1;32m<ipython-input-23-0f4e945a572d>\u001b[0m in \u001b[0;36m_compute_frequency\u001b[1;34m(self, word_sent)\u001b[0m\n\u001b[0;32m     27\u001b[0m         \u001b[1;31m#2 --> ,almost stop words, with max cut ad min_cut\u001b[0m\u001b[1;33m\u001b[0m\u001b[1;33m\u001b[0m\u001b[1;33m\u001b[0m\u001b[0m\n\u001b[0;32m     28\u001b[0m         \u001b[0mmax_freq\u001b[0m \u001b[1;33m=\u001b[0m \u001b[0mfloat\u001b[0m\u001b[1;33m(\u001b[0m\u001b[0mmax\u001b[0m\u001b[1;33m(\u001b[0m\u001b[0mfreq\u001b[0m\u001b[1;33m.\u001b[0m\u001b[0mvalues\u001b[0m\u001b[1;33m(\u001b[0m\u001b[1;33m)\u001b[0m\u001b[1;33m)\u001b[0m\u001b[1;33m)\u001b[0m\u001b[1;33m\u001b[0m\u001b[1;33m\u001b[0m\u001b[0m\n\u001b[1;32m---> 29\u001b[1;33m         \u001b[1;32mfor\u001b[0m \u001b[0mword\u001b[0m \u001b[1;32min\u001b[0m \u001b[0mfreq\u001b[0m\u001b[1;33m.\u001b[0m\u001b[0mkeys\u001b[0m\u001b[1;33m(\u001b[0m\u001b[1;33m)\u001b[0m\u001b[1;33m:\u001b[0m\u001b[1;33m\u001b[0m\u001b[1;33m\u001b[0m\u001b[0m\n\u001b[0m\u001b[0;32m     30\u001b[0m             \u001b[0mfreq\u001b[0m\u001b[1;33m[\u001b[0m\u001b[0mword\u001b[0m\u001b[1;33m]\u001b[0m \u001b[1;33m=\u001b[0m \u001b[0mfreq\u001b[0m\u001b[1;33m[\u001b[0m\u001b[0mword\u001b[0m\u001b[1;33m]\u001b[0m\u001b[1;33m/\u001b[0m\u001b[0mmax_freq\u001b[0m\u001b[1;33m\u001b[0m\u001b[1;33m\u001b[0m\u001b[0m\n\u001b[0;32m     31\u001b[0m             \u001b[1;32mif\u001b[0m \u001b[0mfreq\u001b[0m\u001b[1;33m[\u001b[0m\u001b[0mword\u001b[0m\u001b[1;33m]\u001b[0m \u001b[1;33m>=\u001b[0m \u001b[0mself\u001b[0m\u001b[1;33m.\u001b[0m\u001b[0m_max_cut\u001b[0m \u001b[1;32mor\u001b[0m \u001b[0mfreq\u001b[0m\u001b[1;33m[\u001b[0m\u001b[0mword\u001b[0m\u001b[1;33m]\u001b[0m \u001b[1;33m<=\u001b[0m \u001b[0mself\u001b[0m\u001b[1;33m.\u001b[0m\u001b[0m_min_cut\u001b[0m\u001b[1;33m:\u001b[0m\u001b[1;33m\u001b[0m\u001b[1;33m\u001b[0m\u001b[0m\n",
      "\u001b[1;31mRuntimeError\u001b[0m: dictionary changed size during iteration"
     ]
    }
   ],
   "source": [
    "#######\n",
    "#first call frequency calsser, elimantind stop words, score forwords, ranking sentences\n",
    "############################################\n",
    "from nltk.tokenize import sent_tokenize, word_tokenize\n",
    "from nltk.corpus import stopwords\n",
    "class FrequencySummarizer:\n",
    "    def __init__(self, min_cut=0.1, max_cut=0.9):\n",
    "        #wil be the function that will be called when each object is instantiated\n",
    "        #self is the first key words passed by  any other method.\n",
    "        self._min_cut = min_cut\n",
    "        self._max_cut = max_cut\n",
    "        self._stopwords = set(stopwords.words('english')+list(punctuation))\n",
    "        print(self._stopwords)\n",
    "    #if member varialabe is defined inside body class, if it is default for tall the instances\n",
    "    def _compute_frequency(self,word_sent):\n",
    "        #takes sentences of the articles as a argument and writtens the dictionary which has each unique word and frequency of ord\n",
    "        freq = defaultdict(int)\n",
    "        #if the word is not in default dict, then it adds key value pair\n",
    "        for sentence in word_sent:\n",
    "            for word in sentence:\n",
    "                if word not in self._stopwords:\n",
    "                    freq[word] += 1\n",
    "                    #retuns a dict wiht word as key and freq as value.\n",
    "        #1.Normalize the frequencies by divind wachby the highest frequecy.\n",
    "        #2.filter out frequency that are too high or low using max cut and min_cut\n",
    "        #all freq ill be 0 to 1 -->1\n",
    "        #2 --> ,almost stop words, with max cut ad min_cut\n",
    "        max_freq = float(max(freq.values()))\n",
    "        for word in freq.keys():\n",
    "            freq[word] = freq[word]/max_freq\n",
    "            if freq[word] >= self._max_cut or freq[word] <= self._min_cut:\n",
    "                del freq[word]\n",
    "        return freq\n",
    "    #return number of frequency of each word.\n",
    "           \n",
    "    def summarize(self, text, n):\n",
    "        #self, a raw text (article), number in the summary that needs to be returned\n",
    "        #takes text from article, n - sentences that needs to e chekced\n",
    "        sents = sent_tokenize(text)\n",
    "        #list of sentences\n",
    "        assert n <= len(sents)\n",
    "        #it should e less than whole lenght of article\n",
    "        word_sent = [word_tokenize(s.lower()) for s in sents]\n",
    "        #each sentence will iterate through each word\n",
    "        self.freq = self._compute_frequency(word_sent)\n",
    "        rankint = defaultdict(int)\n",
    "        for i,sent in enumerate(word_sent):\n",
    "            #for raking thr words\n",
    "            #['a','b','c'] list(enumerate(list) gives tuples[(0,'a'),(1,'b')]), this eliminates the need to have\n",
    "            #counter and track for index\n",
    "            for word in sent:\n",
    "                if word in self._freq:\n",
    "                    rankings[i] += self._freq[w]\n",
    "                #sentences ['mary has a little lamb','the quick brown fox']\n",
    "                #[(0,'mary ...lamb',(1,the quick ..fox))]\n",
    "                #ranking (0) = freq(mary)+freq(has)+freq(lamb)\n",
    "        sents_idx = nlagest(n,ranking, key = rankings.get)\n",
    "        return [sents[j] for j in sents_idx]\n",
    "    \n",
    "someUrl = 'https://www.washingtonpost.com/national-security/house-intelligence-committee-releases-whistleblowers-complaint-citing-trumps-call-with-ukraines-president/2019/09/26/402052ee-e056-11e9-be96-6adb81821e90_story.html'\n",
    "textofURL = get_only_text_washingtonpost_url(someUrl)    \n",
    "fs = FrequencySummarizer()\n",
    "summary = fs.summarize(textofURL[1],3)\n",
    "print(summary)                   \n",
    "            \n"
   ]
  },
  {
   "cell_type": "code",
   "execution_count": 20,
   "metadata": {
    "scrolled": true
   },
   "outputs": [
    {
     "ename": "NameError",
     "evalue": "name 'max_cut' is not defined",
     "output_type": "error",
     "traceback": [
      "\u001b[1;31m---------------------------------------------------------------------------\u001b[0m",
      "\u001b[1;31mNameError\u001b[0m                                 Traceback (most recent call last)",
      "\u001b[1;32m<ipython-input-20-86fe35b49ce8>\u001b[0m in \u001b[0;36m<module>\u001b[1;34m\u001b[0m\n\u001b[0;32m     60\u001b[0m \u001b[0msomeUrl\u001b[0m \u001b[1;33m=\u001b[0m \u001b[1;34m'https://www.washingtonpost.com/national-security/house-intelligence-committee-releases-whistleblowers-complaint-citing-trumps-call-with-ukraines-president/2019/09/26/402052ee-e056-11e9-be96-6adb81821e90_story.html'\u001b[0m\u001b[1;33m\u001b[0m\u001b[1;33m\u001b[0m\u001b[0m\n\u001b[0;32m     61\u001b[0m \u001b[0mtextofURL\u001b[0m \u001b[1;33m=\u001b[0m \u001b[0mget_only_text_washingtonpost_url\u001b[0m\u001b[1;33m(\u001b[0m\u001b[0msomeUrl\u001b[0m\u001b[1;33m)\u001b[0m\u001b[1;33m\u001b[0m\u001b[1;33m\u001b[0m\u001b[0m\n\u001b[1;32m---> 62\u001b[1;33m \u001b[0mfs\u001b[0m \u001b[1;33m=\u001b[0m \u001b[0mFrequencySummarizer\u001b[0m\u001b[1;33m(\u001b[0m\u001b[1;33m)\u001b[0m\u001b[1;33m\u001b[0m\u001b[1;33m\u001b[0m\u001b[0m\n\u001b[0m\u001b[0;32m     63\u001b[0m \u001b[0msummary\u001b[0m \u001b[1;33m=\u001b[0m \u001b[0mfs\u001b[0m\u001b[1;33m.\u001b[0m\u001b[0msummarize\u001b[0m\u001b[1;33m(\u001b[0m\u001b[0mtextofURL\u001b[0m\u001b[1;33m[\u001b[0m\u001b[1;36m1\u001b[0m\u001b[1;33m]\u001b[0m\u001b[1;33m,\u001b[0m\u001b[1;36m3\u001b[0m\u001b[1;33m)\u001b[0m\u001b[1;33m\u001b[0m\u001b[1;33m\u001b[0m\u001b[0m\n\u001b[0;32m     64\u001b[0m \u001b[0mprint\u001b[0m\u001b[1;33m(\u001b[0m\u001b[0msummary\u001b[0m\u001b[1;33m)\u001b[0m\u001b[1;33m\u001b[0m\u001b[1;33m\u001b[0m\u001b[0m\n",
      "\u001b[1;32m<ipython-input-20-86fe35b49ce8>\u001b[0m in \u001b[0;36m__init__\u001b[1;34m(self, min_cut, max_count)\u001b[0m\n\u001b[0;32m      9\u001b[0m         \u001b[1;31m#self is the first key words passed by  any other method.\u001b[0m\u001b[1;33m\u001b[0m\u001b[1;33m\u001b[0m\u001b[1;33m\u001b[0m\u001b[0m\n\u001b[0;32m     10\u001b[0m         \u001b[0mself\u001b[0m\u001b[1;33m.\u001b[0m\u001b[0m_min_cut\u001b[0m \u001b[1;33m=\u001b[0m \u001b[0mmin_cut\u001b[0m\u001b[1;33m\u001b[0m\u001b[1;33m\u001b[0m\u001b[0m\n\u001b[1;32m---> 11\u001b[1;33m         \u001b[0mself\u001b[0m\u001b[1;33m.\u001b[0m\u001b[0m_max_max_cut\u001b[0m \u001b[1;33m=\u001b[0m \u001b[0mmax_cut\u001b[0m\u001b[1;33m\u001b[0m\u001b[1;33m\u001b[0m\u001b[0m\n\u001b[0m\u001b[0;32m     12\u001b[0m         \u001b[0mself\u001b[0m\u001b[1;33m.\u001b[0m\u001b[0m_stopwords\u001b[0m \u001b[1;33m=\u001b[0m \u001b[0mset\u001b[0m\u001b[1;33m(\u001b[0m\u001b[0mstopwords\u001b[0m\u001b[1;33m.\u001b[0m\u001b[0mwords\u001b[0m\u001b[1;33m(\u001b[0m\u001b[1;34m'english'\u001b[0m\u001b[1;33m)\u001b[0m\u001b[1;33m+\u001b[0m\u001b[0mlist\u001b[0m\u001b[1;33m(\u001b[0m\u001b[0mpunctuation\u001b[0m\u001b[1;33m)\u001b[0m\u001b[1;33m)\u001b[0m\u001b[1;33m\u001b[0m\u001b[1;33m\u001b[0m\u001b[0m\n\u001b[0;32m     13\u001b[0m         \u001b[0mprint\u001b[0m\u001b[1;33m(\u001b[0m\u001b[0mself\u001b[0m\u001b[1;33m.\u001b[0m\u001b[0m_stopwords\u001b[0m\u001b[1;33m)\u001b[0m\u001b[1;33m\u001b[0m\u001b[1;33m\u001b[0m\u001b[0m\n",
      "\u001b[1;31mNameError\u001b[0m: name 'max_cut' is not defined"
     ]
    }
   ],
   "source": [
    "#######\n",
    "#first call frequency calsser, elimantind stop words, score forwords, ranking sentences\n",
    "############################################\n",
    "from nltk.tokenize import sent_tokenize, word_tokenize\n",
    "from nltk.corpus import stopwords\n",
    "class FrequencySummarizer:\n",
    "    def __init__(self, min_cut=0.1, max_count=0.9):\n",
    "        #wil be the function that will be called when each object is instantiated\n",
    "        #self is the first key words passed by  any other method.\n",
    "        self._min_cut = min_cut\n",
    "        self._max_max_cut = max_cut\n",
    "        self._stopwords = set(stopwords.words('english')+list(punctuation))\n",
    "        print(self._stopwords)\n",
    "    #if member varialabe is defined inside body class, if it is default for tall the instances\n",
    "    def _compute_frequency(self,word_sent):\n",
    "        #takes sentences of the articles as a argument and writtens the dictionary which has each unique word and frequency of ord\n",
    "        freq = defaultdict(int)\n",
    "        #if the word is not in default dict, then it adds key value pair\n",
    "        for sentence in word_sent:\n",
    "            for word in sentence:\n",
    "                if word not in self._stopwords:\n",
    "                    freq[word] += 1\n",
    "                    #retuns a dict wiht word as key and freq as value.\n",
    "        #1.Normalize the frequencies by divind wachby the highest frequecy.\n",
    "        #2.filter out frequency that are too high or low using max cut and min_cut\n",
    "        #all freq ill be 0 to 1 -->1\n",
    "        #2 --> ,almost stop words, with max cut ad min_cut\n",
    "        max_freq = float(max(freq.values()))\n",
    "        for word in freq.keys():\n",
    "            freq[word] = freq[word]/max_freq\n",
    "            if freq[word] >= self._max_cut or freq[word] <= self._min_cut:\n",
    "                del freq[word]\n",
    "        return freq\n",
    "    #return number of frequency of each word.\n",
    "           \n",
    "    def summarize(self, text, n):\n",
    "        #self, a raw text (article), number in the summary that needs to be returned\n",
    "        #takes text from article, n - sentences that needs to e chekced\n",
    "        sents = sent_tokenize(text)\n",
    "        #list of sentences\n",
    "        assert n <= len(sents)\n",
    "        #it should e less than whole lenght of article\n",
    "        word_sent = [word_tokenize(s.lower()) for s in sents]\n",
    "        #each sentence will iterate through each word\n",
    "        self.freq = self._compute_frequency(word_sent)\n",
    "        rankint = defaultdict(int)\n",
    "        for i,sent in enumerate(word_sent):\n",
    "            #for raking thr words\n",
    "            #['a','b','c'] list(enumerate(list) gives tuples[(0,'a'),(1,'b')]), this eliminates the need to have\n",
    "            #counter and track for index\n",
    "            for word in sent:\n",
    "                if word in self._freq:\n",
    "                    rankings[i] += self._freq[w]\n",
    "                #sentences ['mary has a little lamb','the quick brown fox']\n",
    "                #[(0,'mary ...lamb',(1,the quick ..fox))]\n",
    "                #ranking (0) = freq(mary)+freq(has)+freq(lamb)\n",
    "        sents_idx = nlagest(n,ranking, key = rankings.get)\n",
    "        return [sents[j] for j in sents_idx]\n",
    "    \n",
    "someUrl = 'https://www.washingtonpost.com/national-security/house-intelligence-committee-releases-whistleblowers-complaint-citing-trumps-call-with-ukraines-president/2019/09/26/402052ee-e056-11e9-be96-6adb81821e90_story.html'\n",
    "textofURL = get_only_text_washingtonpost_url(someUrl)    \n",
    "fs = FrequencySummarizer()\n",
    "summary = fs.summarize(textofURL[1],3)\n",
    "print(summary)                   \n",
    "            \n"
   ]
  },
  {
   "cell_type": "code",
   "execution_count": null,
   "metadata": {},
   "outputs": [],
   "source": []
  },
  {
   "cell_type": "code",
   "execution_count": 10,
   "metadata": {},
   "outputs": [],
   "source": [
    "####################################\n",
    "#now we have to downlaod the UR and content\n",
    "###################################\n",
    "from urllib.request import urlopen\n",
    "from bs4 import BeautifulSoup"
   ]
  },
  {
   "cell_type": "code",
   "execution_count": null,
   "metadata": {},
   "outputs": [],
   "source": [
    "#pulls out of HTML, scrapping websit, to estract article test from html page\n"
   ]
  },
  {
   "cell_type": "code",
   "execution_count": 11,
   "metadata": {},
   "outputs": [],
   "source": [
    "def get_only_text_washingtonpost_url(url):\n",
    "    #takes url and gives the content or raw body\n",
    "    page = urlopen(url).read().decode('utf-8')\n",
    "    #downlaod the URL\n",
    "    soup =  BeautifulSoup(page)\n",
    "    #intialize a Beautifl object\n",
    "    text = ' '.join(map(lambda p: p.text, soup.find_all('article')))\n",
    "    #all the date inside article tag and join all the data by using join\n",
    "    soup2 = BeautifulSoup(text)\n",
    "    #take texbt from previous soup and intialize\n",
    "    text = ' '.join(map(lambda p: p.text, soup2.find_all('p')))\n",
    "    return soup.title.text, text\n",
    "#return title, text\n",
    "\n",
    "    \n",
    "    \n",
    "    \n",
    "    \n",
    "    \n",
    "    \n",
    "    \n",
    "    \n",
    "    \n",
    "    \n",
    "    \n",
    "    \n",
    "    \n",
    "    "
   ]
  },
  {
   "cell_type": "code",
   "execution_count": 12,
   "metadata": {},
   "outputs": [
    {
     "name": "stdout",
     "output_type": "stream",
     "text": [
      "('Whistleblower complaint against President Trump is released - The Washington Post', \"By Devlin Barrett,\\xa0closeDevlin BarrettReporter focusing on national security and law enforcementEmailEmailBioBioFollowFollowMatt Zapotosky,\\xa0closeMatt ZapotoskyNational security reporter covering the Justice DepartmentEmailEmailBioBioFollowFollowJosh Dawsey and\\xa0closeJosh DawseyReporter covering the White HouseEmailEmailBioBioFollowFollowShane Harris\\xa0closeShane HarrisIntelligence and national security reporterEmailEmailBioBioFollowFollowSeptember 26, 2019 at 6:11 PM EDTThe whistleblower complaint at the heart of the burgeoning controversy over President Trump’s call with the Ukrainian president claims not only that Trump misused his office for personal gain and endangered national security, but also that unidentified White House officials tried to keep it a secret even within the government.Read the whistleblower complaint regarding President Trump’s communications with Ukrainian President Volodymyr ZelenskyIn seven stark, carefully worded pages, the unidentified whistleblower alleged that the commander in chief pushed his foreign counterpart to investigate Democratic presidential contender Joe Biden and his son Hunter Biden, and that senior White House officials then tried to “lock down” records related to the matter.  The pressure on the Ukrainian leader was applied in a phone call July\\xa025 between Trump and President Volodymyr Zelensky, the whistleblower alleged, an exchange that turned so politically problematic that White House lawyers directed other officials to remove the electronic transcript of the conversation from the computer system where it was stored.ADADThe transcript, the whistleblower alleged, was then loaded onto a separate system meant for highly classified information. And according to White House officials who informed the whistleblower, that was “not the first time” a transcript was put there because of concerns about politics rather than national security, the complaint alleged.Trump, the whistleblower wrote, was “using the power of his office to solicit interference from a foreign country in the 2020 U.S. election.”Intelligence chief Maguire defends his handling of whistleblower complaint in testimony before CongressThe whistleblower’s assertions — made public Thursday after House Intelligence Committee Chairman Adam B. Schiff (D-Calif.) released the complaint — ramped up an already intense political battle that this week led congressional Democrats to formally launch an inquiry into whether Trump should be impeached.ADAt a hearing to question Trump’s acting director of national intelligence, Democrats pressed Joseph Maguire, the acting chief, on why he had not given Congress the complaint sooner, as they say the law required. Republicans attacked the reliability of the whistleblower’s information as unproven hearsay.ADMaguire told lawmakers that he believed the whistleblower had acted “in good faith” but declined to offer any conclusion about the allegations.House Speaker Nancy Pelosi (D-Calif.) read portions of the complaint to reporters Thursday, declaring: “This is a coverup.”Trump lashed out publicly and privately against the accusations. At a closed-door event Thursday in New York to thank U.S. personnel who had worked on his visit to the United Nations General Assembly, the president suggested darkly that the people who spoke about his conversation with Zelensky should be viewed as traitors.AD“I want to know who’s the person, who’s the person who gave the whistleblower the information? Because that’s close to a spy,” he said in a recording of the remarks obtained by the Los Angeles Times. “You know what we used to do in the old days when we were smart? Right? The spies and treason, we used to handle it a little differently than we do now.”ADTrump offered Ukrainian president Justice Dept. help in an investigation of Biden, memo showsThe whistleblower is a CIA employee, a fact first reported by the New York Times. The whistleblower’s complaint, dated Aug.\\xa012, has a two page addendum, portions of which remain classified. It was directed to the heads of the House and Senate intelligence committees, spelling out what the whistleblower, who is a U.S. intelligence official, felt was an “urgent concern” based on information more than a half-dozen officials had shared.The whistleblower alleged that Trump had solicited election interference that “includes, among other things, pressuring a foreign country to investigate one of the President’s main domestic political rivals.”AD“The President’s personal lawyer, Mr. Rudolph W. Giuliani, is a central figure in this effort,” the whistleblower wrote. “Attorney General [William P.] Barr appears to be involved as well,” the complaint stated.ADA spokeswoman for Barr has said that he did not know about the phone call until the whistleblower issue was raised and that he had not spoken with Trump about assisting Ukraine with an investigation of Biden or his son.In the July phone call, Trump repeatedly pressed Zelensky to investigate the Bidens.Hunter Biden served on the board of a Ukrainian gas company that came under scrutiny by authorities there. He was not accused of any wrongdoing in the investigation. As vice president, Joe Biden pressured Ukraine to fire its top prosecutor, who Biden and other Western officials said was not sufficiently pursuing corruption cases. At the time, the Ukrainians’ investigation was dormant, according to former Ukrainian and U.S. officials.ADFormer Ukraine prosecutor says Hunter Biden ‘did not violate anything’In the call with Zelensky, Trump offered Barr’s help while dangling a possible visit to the White House, according to a rough transcript of the call released by the White House on Wednesday.ADAlarmed by the conversation between Trump and Zelensky, and related interactions between Giuliani and other Ukrainian officials, the whistleblower submitted the complaint to the inspector general of the U.S. intelligence agencies.The document shows the author of the complaint was troubled not just by the call, but also by what the person viewed as a broader four-month pattern of election-season misconduct involving the president, his lawyer and White House aides who sought to keep the whole thing quiet.AD“I am also concerned that these actions pose risks to U.S. national security and undermine the U.S. government’s efforts to deter and counter foreign interference in U.S. elections,” the person wrote.The whistleblower was not the only one worried, according to the complaint.“The White House officials who told me this information were deeply disturbed by what had transpired in the phone call,” the whistleblower wrote. “They told me there was already a ‘discussion ongoing’ with White House lawyers about how to treat the call because of the likelihood, in the officials’ retelling, that they had witnessed the President abuse his office for personal gain.”ADADListen on Post Reports: Shane Harris breaks down Tuesday’s testimony by acting director of national intelligence Joseph McGuireAbout a dozen White House officials listened in on the call, monitoring that is common when heads of state speak directly with each other. The complaint identifies State Department official T. Ulrich Brechbuhl as one of the officials who listened to the call. Since May, Brechbuhl has worked as a counselor to Secretary of State Mike Pompeo — a high-level position reporting directly to the secretary.Pompeo told reporters Thursday that he was not familiar with many of the allegations but said that, to his knowledge, “each of the actions that were undertaken by State Department officials was entirely appropriate and consistent with the objective that we’ve had certainly since this new government has come into office.”Inside the White House, according to the whistleblower, the alarm over Trump’s behavior was so great that officials sought to limit access to the written record of the call.ADAD“In the days following the phone call, I learned from multiple U.S. officials that senior White House officials had intervened to ‘lock down’ all records of the phone call, especially the word-for-word transcript of the call that was produced — as is customary — by the White House Situation Room,” the whistleblower alleged. “This set of actions underscored to me that White House officials understood the gravity of what had transpired in the call.”The whistleblower also reported being told by unidentified White House officials that they had been directed by White House lawyers “to remove the electronic transcript from the computer system in which such transcripts are typically stored.” The whistleblower cryptically alleged that, according to other White House officials, this was “not the first time” a transcript was placed into a particular classified system “solely for the purpose of protecting politically sensitive — rather than national security sensitive — information.”The whistleblower did not specify the other instances, at least in the unredacted portions of the complaint.ADThe Office of the White House Counsel did not immediately respond to a request for comment.Larry Pfeiffer, a senior director of the White House Situation Room in the Obama administration, said the computer system reserved for code-word-level intelligence information is used to retain the most sensitive compartmented intelligence matters, such as covert programs. It may also hold some diplomatically sensitive information — such as records of highly delicate negotiations and conversations, he said.“It would never be used to protect or ‘lock down’ politically sensitive material or to protect the president or senior officials from embarrassment,” said Pfeiffer, now director of the Michael V. Hayden Center for Intelligence, Policy, and International Security at George Mason University. “I’m appalled at this clear abuse of the president’s power to manage and protect our most sensitive secrets. ”The complaint also describes alleged actions by Giuliani that seemed designed to pressure the Ukrainian government to go after Joe Biden.The whistleblower learned from other U.S. officials that Giuliani’s visit to Madrid on Aug.\\xa02 to meet with a Zelensky aide was “a direct follow-up” to Trump’s July\\xa025 call to the Ukrainian president and request for an investigation of the Bidens, the complaint says. Giuliani also made overtures to “a variety of other Zelenskyy advisers, including Chief of Staff Andriy Bohdan and Acting Chairman of the Security Service of Ukraine Ivan Bakanov,” according to the complaint.Giuliani’s efforts complicated U.S. diplomats’ dealings with Ukraine, according to the complaint. After the Aug.\\xa02 meeting, the whistleblower alleged, two senior State Department officials had to advise Ukrainian leaders on “how to ‘navigate’ the demands that the President had made of Mr. Zelensky.” Those officials also talked to Giuliani to “contain the damage” to national security, the whistleblower wrote.In a heated and occasionally profane interview with The Washington Post, Giuliani denied the allegations and excoriated Democrats and the media for asking questions about him rather than about Hunter Biden.“I’m in a den of completely horrible people, and you’re spending all this time on bulls---,” Giuliani said. “The whistleblower doesn’t know what the hell he’s talking about. He’s a political activist. The son of a b---- lied about me.”Giuliani grew angry when asked about criticism of his efforts to push for an investigation in Ukraine — criticism that has come from White House and State Department officials, along with the whistleblower’s complaint.He said that he would one day show 40 text-message exchanges between him and State Department officials that confirmed they knew about his activities. “The entire idea that I did it on my own was bulls---. The texts could make a nice book, maybe even a movie. I will be referred to as the hero,” he said. “It occurred to me that I am a whistleblower, too.”The whistleblower’s account is based on months of conversations with colleagues and concedes that, for most of the events described, the whistleblower was not a direct witness. The whistleblower wrote that the information was gathered “in the course of official interagency business.”The whistleblower complaint became the subject of a high-stakes back-and-forth among government agencies about how it should be handled. While the inspector general sought to alert Congress to the concern, lawyers at the Justice Department’s Office of Legal Counsel concluded that it should not be shared with Congress. The Justice Department decided it was not a proper whistleblower complaint because it involved the conduct of the president, who is not an employee of the intelligence agencies.Instead, the complaint was relayed to the Justice Department’s Criminal Division in late August as a possible violation of campaign finance laws. After reviewing the matter, lawyers concluded last week that the law had not been broken and closed the matter without opening a formal investigation, according to senior Justice Department officials.In addition to raising a question about campaign finance laws, the whistleblower suggested that Trump and Giuliani might have engaged in a corrupt quid pro quo with Zelensky. The whistleblower alleged, for example, that Ukrainian leaders were led to believe that Zelensky would get a meeting or phone call with Trump only if Ukraine would “play ball” on the investigations sought by Giuliani.Carol D. Leonnig, Karoun Demirjian, Karen DeYoung, John Hudson, Ellen Nakashima and Ashley Parker contributed to this report.comments19505 CommentsToday's HeadlinesFree daily updates delivered just for youBy signing up you agree to our Terms of Use and Privacy\\xa0PolicyhomeHomeshareShareShare on FacebookEmail this linkShare on TwitterShare on PinterestShare on LinkedIn\")\n"
     ]
    }
   ],
   "source": [
    "########\n",
    "#give try\n",
    "##############\n",
    "someUrl = 'https://www.washingtonpost.com/national-security/house-intelligence-committee-releases-whistleblowers-complaint-citing-trumps-call-with-ukraines-president/2019/09/26/402052ee-e056-11e9-be96-6adb81821e90_story.html'\n",
    "textofURL = get_only_text_washingtonpost_url(someUrl)\n",
    "print(textofURL)"
   ]
  },
  {
   "cell_type": "code",
   "execution_count": 1,
   "metadata": {},
   "outputs": [
    {
     "ename": "NameError",
     "evalue": "name 'FrequencySummarizer' is not defined",
     "output_type": "error",
     "traceback": [
      "\u001b[1;31m---------------------------------------------------------------------------\u001b[0m",
      "\u001b[1;31mNameError\u001b[0m                                 Traceback (most recent call last)",
      "\u001b[1;32m<ipython-input-1-afd8534502b6>\u001b[0m in \u001b[0;36m<module>\u001b[1;34m\u001b[0m\n\u001b[1;32m----> 1\u001b[1;33m \u001b[0mfs\u001b[0m \u001b[1;33m=\u001b[0m \u001b[0mFrequencySummarizer\u001b[0m\u001b[1;33m(\u001b[0m\u001b[1;33m)\u001b[0m\u001b[1;33m\u001b[0m\u001b[1;33m\u001b[0m\u001b[0m\n\u001b[0m\u001b[0;32m      2\u001b[0m \u001b[0msummary\u001b[0m \u001b[1;33m=\u001b[0m \u001b[0mfs\u001b[0m\u001b[1;33m.\u001b[0m\u001b[0msummarize\u001b[0m\u001b[1;33m(\u001b[0m\u001b[0mtextofUrl\u001b[0m\u001b[1;33m[\u001b[0m\u001b[1;36m1\u001b[0m\u001b[1;33m]\u001b[0m\u001b[1;33m,\u001b[0m\u001b[1;36m3\u001b[0m\u001b[1;33m)\u001b[0m\u001b[1;33m\u001b[0m\u001b[1;33m\u001b[0m\u001b[0m\n\u001b[0;32m      3\u001b[0m \u001b[0mprint\u001b[0m\u001b[1;33m(\u001b[0m\u001b[0msummary\u001b[0m\u001b[1;33m)\u001b[0m\u001b[1;33m\u001b[0m\u001b[1;33m\u001b[0m\u001b[0m\n",
      "\u001b[1;31mNameError\u001b[0m: name 'FrequencySummarizer' is not defined"
     ]
    }
   ],
   "source": [
    "fs = FrequencySummarizer()\n",
    "summary = fs.summarize(textofUrl[1],3)\n",
    "print(summary)"
   ]
  }
 ],
 "metadata": {
  "kernelspec": {
   "display_name": "Python 3",
   "language": "python",
   "name": "python3"
  },
  "language_info": {
   "codemirror_mode": {
    "name": "ipython",
    "version": 3
   },
   "file_extension": ".py",
   "mimetype": "text/x-python",
   "name": "python",
   "nbconvert_exporter": "python",
   "pygments_lexer": "ipython3",
   "version": "3.7.3"
  }
 },
 "nbformat": 4,
 "nbformat_minor": 2
}
